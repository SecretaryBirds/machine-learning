{
 "cells": [
  {
   "cell_type": "markdown",
   "metadata": {},
   "source": [
    "# Machine Learning Engineer Nanodegree\n",
    "## Model Evaluation & Validation\n",
    "## Project: Predicting Boston Housing Prices\n",
    "\n",
    "Welcome to the first project of the Machine Learning Engineer Nanodegree! In this notebook, some template code has already been provided for you, and you will need to implement additional functionality to successfully complete this project. You will not need to modify the included code beyond what is requested. Sections that begin with **'Implementation'** in the header indicate that the following block of code will require additional functionality which you must provide. Instructions will be provided for each section and the specifics of the implementation are marked in the code block with a 'TODO' statement. Please be sure to read the instructions carefully!\n",
    "\n",
    "In addition to implementing code, there will be questions that you must answer which relate to the project and your implementation. Each section where you will answer a question is preceded by a **'Question X'** header. Carefully read each question and provide thorough answers in the following text boxes that begin with **'Answer:'**. Your project submission will be evaluated based on your answers to each of the questions and the implementation you provide.  \n",
    "\n",
    ">**Note:** Code and Markdown cells can be executed using the **Shift + Enter** keyboard shortcut. In addition, Markdown cells can be edited by typically double-clicking the cell to enter edit mode."
   ]
  },
  {
   "cell_type": "markdown",
   "metadata": {},
   "source": [
    "## Getting Started\n",
    "In this project, you will evaluate the performance and predictive power of a model that has been trained and tested on data collected from homes in suburbs of Boston, Massachusetts. A model trained on this data that is seen as a *good fit* could then be used to make certain predictions about a home — in particular, its monetary value. This model would prove to be invaluable for someone like a real estate agent who could make use of such information on a daily basis.\n",
    "\n",
    "The dataset for this project originates from the [UCI Machine Learning Repository](https://archive.ics.uci.edu/ml/datasets/Housing). The Boston housing data was collected in 1978 and each of the 506 entries represent aggregated data about 14 features for homes from various suburbs in Boston, Massachusetts. For the purposes of this project, the following preprocessing steps have been made to the dataset:\n",
    "- 16 data points have an `'MEDV'` value of 50.0. These data points likely contain **missing or censored values** and have been removed.\n",
    "- 1 data point has an `'RM'` value of 8.78. This data point can be considered an **outlier** and has been removed.\n",
    "- The features `'RM'`, `'LSTAT'`, `'PTRATIO'`, and `'MEDV'` are essential. The remaining **non-relevant features** have been excluded.\n",
    "- The feature `'MEDV'` has been **multiplicatively scaled** to account for 35 years of market inflation.\n",
    "\n",
    "Run the code cell below to load the Boston housing dataset, along with a few of the necessary Python libraries required for this project. You will know the dataset loaded successfully if the size of the dataset is reported."
   ]
  },
  {
   "cell_type": "code",
   "execution_count": 1,
   "metadata": {
    "collapsed": false
   },
   "outputs": [
    {
     "name": "stdout",
     "output_type": "stream",
     "text": [
      "Boston housing dataset has 489 data points with 4 variables each.\n"
     ]
    }
   ],
   "source": [
    "# Import libraries necessary for this project\n",
    "import numpy as np\n",
    "import pandas as pd\n",
    "from sklearn.cross_validation import ShuffleSplit\n",
    "\n",
    "# Import supplementary visualizations code visuals.py\n",
    "import visuals as vs\n",
    "\n",
    "# Pretty display for notebooks\n",
    "%matplotlib inline\n",
    "\n",
    "# Load the Boston housing dataset\n",
    "data = pd.read_csv('housing.csv')\n",
    "prices = data['MEDV']\n",
    "features = data.drop('MEDV', axis = 1)\n",
    "    \n",
    "# Success\n",
    "print \"Boston housing dataset has {} data points with {} variables each.\".format(*data.shape)"
   ]
  },
  {
   "cell_type": "markdown",
   "metadata": {},
   "source": [
    "## Data Exploration\n",
    "In this first section of this project, you will make a cursory investigation about the Boston housing data and provide your observations. Familiarizing yourself with the data through an explorative process is a fundamental practice to help you better understand and justify your results.\n",
    "\n",
    "Since the main goal of this project is to construct a working model which has the capability of predicting the value of houses, we will need to separate the dataset into **features** and the **target variable**. The **features**, `'RM'`, `'LSTAT'`, and `'PTRATIO'`, give us quantitative information about each data point. The **target variable**, `'MEDV'`, will be the variable we seek to predict. These are stored in `features` and `prices`, respectively."
   ]
  },
  {
   "cell_type": "markdown",
   "metadata": {},
   "source": [
    "### Implementation: Calculate Statistics\n",
    "For your very first coding implementation, you will calculate descriptive statistics about the Boston housing prices. Since `numpy` has already been imported for you, use this library to perform the necessary calculations. These statistics will be extremely important later on to analyze various prediction results from the constructed model.\n",
    "\n",
    "In the code cell below, you will need to implement the following:\n",
    "- Calculate the minimum, maximum, mean, median, and standard deviation of `'MEDV'`, which is stored in `prices`.\n",
    "  - Store each calculation in their respective variable."
   ]
  },
  {
   "cell_type": "code",
   "execution_count": 2,
   "metadata": {
    "collapsed": false
   },
   "outputs": [
    {
     "name": "stdout",
     "output_type": "stream",
     "text": [
      "Statistics for Boston housing dataset:\n",
      "\n",
      "Minimum price: $105,000.00\n",
      "Maximum price: $1,024,800.00\n",
      "Mean price: $454,342.94\n",
      "Median price $438,900.00\n",
      "Standard deviation of prices: $165,171.13\n"
     ]
    }
   ],
   "source": [
    "# TODO: Minimum price of the data\n",
    "minimum_price = np.min(prices)\n",
    "\n",
    "# TODO: Maximum price of the data\n",
    "maximum_price = np.max(prices)\n",
    "\n",
    "# TODO: Mean price of the data\n",
    "mean_price = np.mean(prices)\n",
    "\n",
    "# TODO: Median price of the data\n",
    "median_price = np.median(prices)\n",
    "\n",
    "# TODO: Standard deviation of prices of the data\n",
    "std_price = np.std(prices)\n",
    "\n",
    "# Show the calculated statistics\n",
    "print \"Statistics for Boston housing dataset:\\n\"\n",
    "print \"Minimum price: ${:,.2f}\".format(minimum_price)\n",
    "print \"Maximum price: ${:,.2f}\".format(maximum_price)\n",
    "print \"Mean price: ${:,.2f}\".format(mean_price)\n",
    "print \"Median price ${:,.2f}\".format(median_price)\n",
    "print \"Standard deviation of prices: ${:,.2f}\".format(std_price)"
   ]
  },
  {
   "cell_type": "markdown",
   "metadata": {},
   "source": [
    "### Question 1 - Feature Observation\n",
    "As a reminder, we are using three features from the Boston housing dataset: `'RM'`, `'LSTAT'`, and `'PTRATIO'`. For each data point (neighborhood):\n",
    "- `'RM'` is the average number of rooms among homes in the neighborhood.\n",
    "- `'LSTAT'` is the percentage of homeowners in the neighborhood considered \"lower class\" (working poor).\n",
    "- `'PTRATIO'` is the ratio of students to teachers in primary and secondary schools in the neighborhood.\n",
    "\n",
    "_Using your intuition, for each of the three features above, do you think that an increase in the value of that feature would lead to an **increase** in the value of `'MEDV'` or a **decrease** in the value of `'MEDV'`? Justify your answer for each._  \n",
    "**Hint:** Would you expect a home that has an `'RM'` value of 6 be worth more or less than a home that has an `'RM'` value of 7?"
   ]
  },
  {
   "cell_type": "markdown",
   "metadata": {},
   "source": [
    "**Answer: **\n",
    "1. For the RM feature, houses with more rooms means they have more square footage, which should equate to a higher value home.\n",
    "2. For the LSTAT feature, if the number of lower class homeowners increases, that means the neighborhood is probably worth less money. Lower class individuals will make less money, which increases the likelihood to default on payments, the chance of foreclosures increases in the neighborhood, etc. So houses will be worth less when this number is high.\n",
    "3. For the PTRATIO feature, I'm going to assume that the lower this ratio, the better the schools are. A low PTRATIO would mean that there are only a few students per teacher, which equates to more individualized learning, which should increase all learning stats. High scores for the schools should push housing prices up."
   ]
  },
  {
   "cell_type": "markdown",
   "metadata": {},
   "source": [
    "----\n",
    "\n",
    "## Developing a Model\n",
    "In this second section of the project, you will develop the tools and techniques necessary for a model to make a prediction. Being able to make accurate evaluations of each model's performance through the use of these tools and techniques helps to greatly reinforce the confidence in your predictions."
   ]
  },
  {
   "cell_type": "markdown",
   "metadata": {},
   "source": [
    "### Implementation: Define a Performance Metric\n",
    "It is difficult to measure the quality of a given model without quantifying its performance over training and testing. This is typically done using some type of performance metric, whether it is through calculating some type of error, the goodness of fit, or some other useful measurement. For this project, you will be calculating the [*coefficient of determination*](http://stattrek.com/statistics/dictionary.aspx?definition=coefficient_of_determination), R<sup>2</sup>, to quantify your model's performance. The coefficient of determination for a model is a useful statistic in regression analysis, as it often describes how \"good\" that model is at making predictions. \n",
    "\n",
    "The values for R<sup>2</sup> range from 0 to 1, which captures the percentage of squared correlation between the predicted and actual values of the **target variable**. A model with an R<sup>2</sup> of 0 is no better than a model that always predicts the *mean* of the target variable, whereas a model with an R<sup>2</sup> of 1 perfectly predicts the target variable. Any value between 0 and 1 indicates what percentage of the target variable, using this model, can be explained by the **features**. _A model can be given a negative R<sup>2</sup> as well, which indicates that the model is **arbitrarily worse** than one that always predicts the mean of the target variable._\n",
    "\n",
    "For the `performance_metric` function in the code cell below, you will need to implement the following:\n",
    "- Use `r2_score` from `sklearn.metrics` to perform a performance calculation between `y_true` and `y_predict`.\n",
    "- Assign the performance score to the `score` variable."
   ]
  },
  {
   "cell_type": "code",
   "execution_count": 3,
   "metadata": {
    "collapsed": false
   },
   "outputs": [],
   "source": [
    "# TODO: Import 'r2_score'\n",
    "from sklearn.metrics import r2_score\n",
    "\n",
    "def performance_metric(y_true, y_predict):\n",
    "    \"\"\" Calculates and returns the performance score between \n",
    "        true and predicted values based on the metric chosen. \"\"\"\n",
    "    \n",
    "    # TODO: Calculate the performance score between 'y_true' and 'y_predict'\n",
    "    score = r2_score(y_true, y_predict)\n",
    "    \n",
    "    # Return the score\n",
    "    return score"
   ]
  },
  {
   "cell_type": "markdown",
   "metadata": {},
   "source": [
    "### Question 2 - Goodness of Fit\n",
    "Assume that a dataset contains five data points and a model made the following predictions for the target variable:\n",
    "\n",
    "| True Value | Prediction |\n",
    "| :-------------: | :--------: |\n",
    "| 3.0 | 2.5 |\n",
    "| -0.5 | 0.0 |\n",
    "| 2.0 | 2.1 |\n",
    "| 7.0 | 7.8 |\n",
    "| 4.2 | 5.3 |\n",
    "*Would you consider this model to have successfully captured the variation of the target variable? Why or why not?* \n",
    "\n",
    "Run the code cell below to use the `performance_metric` function and calculate this model's coefficient of determination."
   ]
  },
  {
   "cell_type": "code",
   "execution_count": 4,
   "metadata": {
    "collapsed": false
   },
   "outputs": [
    {
     "name": "stdout",
     "output_type": "stream",
     "text": [
      "Model has a coefficient of determination, R^2, of 0.923.\n"
     ]
    }
   ],
   "source": [
    "# Calculate the performance of this model\n",
    "score = performance_metric([3, -0.5, 2, 7, 4.2], [2.5, 0.0, 2.1, 7.8, 5.3])\n",
    "print \"Model has a coefficient of determination, R^2, of {:.3f}.\".format(score)"
   ]
  },
  {
   "cell_type": "markdown",
   "metadata": {},
   "source": [
    "**Answer:**\n",
    "Based solely on this dataset, and with an R^2 score of 0.923, I think the model has shown to capture the variation quite well. It predicted well on negative values, small positive and large positive values."
   ]
  },
  {
   "cell_type": "markdown",
   "metadata": {},
   "source": [
    "### Implementation: Shuffle and Split Data\n",
    "Your next implementation requires that you take the Boston housing dataset and split the data into training and testing subsets. Typically, the data is also shuffled into a random order when creating the training and testing subsets to remove any bias in the ordering of the dataset.\n",
    "\n",
    "For the code cell below, you will need to implement the following:\n",
    "- Use `train_test_split` from `sklearn.cross_validation` to shuffle and split the `features` and `prices` data into training and testing sets.\n",
    "  - Split the data into 80% training and 20% testing.\n",
    "  - Set the `random_state` for `train_test_split` to a value of your choice. This ensures results are consistent.\n",
    "- Assign the train and testing splits to `X_train`, `X_test`, `y_train`, and `y_test`."
   ]
  },
  {
   "cell_type": "code",
   "execution_count": 11,
   "metadata": {
    "collapsed": false
   },
   "outputs": [
    {
     "name": "stdout",
     "output_type": "stream",
     "text": [
      "Training and testing split was successful.\n"
     ]
    }
   ],
   "source": [
    "# TODO: Import 'train_test_split'\n",
    "from sklearn.cross_validation import train_test_split\n",
    "\n",
    "# TODO: Shuffle and split the data into training and testing subsets\n",
    "X_train, X_test, y_train, y_test = train_test_split(features, prices, test_size=0.20, random_state=35)\n",
    "\n",
    "# Success\n",
    "print \"Training and testing split was successful.\""
   ]
  },
  {
   "cell_type": "markdown",
   "metadata": {},
   "source": [
    "### Question 3 - Training and Testing\n",
    "*What is the benefit to splitting a dataset into some ratio of training and testing subsets for a learning algorithm?*  \n",
    "**Hint:** What could go wrong with not having a way to test your model?"
   ]
  },
  {
   "cell_type": "markdown",
   "metadata": {},
   "source": [
    "**Answer: **\n",
    "If you reserve some of your data for a test set, then you can validate your model to check how well it predicts. If you didn't leave some data aside, you couldn't do that validation, and then you would be surprised when applying your model to real data, when it does a poor job."
   ]
  },
  {
   "cell_type": "markdown",
   "metadata": {},
   "source": [
    "----\n",
    "\n",
    "## Analyzing Model Performance\n",
    "In this third section of the project, you'll take a look at several models' learning and testing performances on various subsets of training data. Additionally, you'll investigate one particular algorithm with an increasing `'max_depth'` parameter on the full training set to observe how model complexity affects performance. Graphing your model's performance based on varying criteria can be beneficial in the analysis process, such as visualizing behavior that may not have been apparent from the results alone."
   ]
  },
  {
   "cell_type": "markdown",
   "metadata": {},
   "source": [
    "### Learning Curves\n",
    "The following code cell produces four graphs for a decision tree model with different maximum depths. Each graph visualizes the learning curves of the model for both training and testing as the size of the training set is increased. Note that the shaded region of a learning curve denotes the uncertainty of that curve (measured as the standard deviation). The model is scored on both the training and testing sets using R<sup>2</sup>, the coefficient of determination.  \n",
    "\n",
    "Run the code cell below and use these graphs to answer the following question."
   ]
  },
  {
   "cell_type": "code",
   "execution_count": 12,
   "metadata": {
    "collapsed": false,
    "scrolled": false
   },
   "outputs": [
    {
     "data": {
      "image/png": "iVBORw0KGgoAAAANSUhEUgAAA1sAAAIMCAYAAAADwLb+AAAABHNCSVQICAgIfAhkiAAAAAlwSFlz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\nmXWAB1tmZmZmZmYd4MGWmZmZmZlZB/wfmm73yGTvKB4AAAAASUVORK5CYII=\n",
      "text/plain": [
       "<matplotlib.figure.Figure at 0xa86ec18>"
      ]
     },
     "metadata": {},
     "output_type": "display_data"
    }
   ],
   "source": [
    "# Produce learning curves for varying training set sizes and maximum depths\n",
    "vs.ModelLearning(features, prices)"
   ]
  },
  {
   "cell_type": "markdown",
   "metadata": {},
   "source": [
    "### Question 4 - Learning the Data\n",
    "*Choose one of the graphs above and state the maximum depth for the model. What happens to the score of the training curve as more training points are added? What about the testing curve? Would having more training points benefit the model?*  \n",
    "**Hint:** Are the learning curves converging to particular scores?"
   ]
  },
  {
   "cell_type": "markdown",
   "metadata": {},
   "source": [
    "**Answer: **\n",
    "I'll pick the Max_Depth 3 graph. The training curve drops from perfect 1.0 score to about 0.8as more training points are added. The testing curve goes from worst, 0.0, to about 0.8 also. Having more training points than we already do would probably not help this model. We are asymptotically approaching the best the model can do: ~0.8."
   ]
  },
  {
   "cell_type": "markdown",
   "metadata": {},
   "source": [
    "### Complexity Curves\n",
    "The following code cell produces a graph for a decision tree model that has been trained and validated on the training data using different maximum depths. The graph produces two complexity curves — one for training and one for validation. Similar to the **learning curves**, the shaded regions of both the complexity curves denote the uncertainty in those curves, and the model is scored on both the training and validation sets using the `performance_metric` function.  \n",
    "\n",
    "Run the code cell below and use this graph to answer the following two questions."
   ]
  },
  {
   "cell_type": "code",
   "execution_count": 13,
   "metadata": {
    "collapsed": false
   },
   "outputs": [
    {
     "data": {
      "image/png": "iVBORw0KGgoAAAANSUhEUgAAAb4AAAFRCAYAAAALn8i+AAAABHNCSVQICAgIfAhkiAAAAAlwSFlz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\n",
      "text/plain": [
       "<matplotlib.figure.Figure at 0xc412828>"
      ]
     },
     "metadata": {},
     "output_type": "display_data"
    }
   ],
   "source": [
    "vs.ModelComplexity(X_train, y_train)"
   ]
  },
  {
   "cell_type": "markdown",
   "metadata": {},
   "source": [
    "### Question 5 - Bias-Variance Tradeoff\n",
    "*When the model is trained with a maximum depth of 1, does the model suffer from high bias or from high variance? How about when the model is trained with a maximum depth of 10? What visual cues in the graph justify your conclusions?*  \n",
    "**Hint:** How do you know when a model is suffering from high bias or high variance?"
   ]
  },
  {
   "cell_type": "markdown",
   "metadata": {},
   "source": [
    "**Answer: **\n",
    "With a depth of 1, the model suffers from high bias. The scores converge, but are very low.\n",
    "With a depth of 10, the model suffers from high variability. The gap between the scores shows there's too much variance."
   ]
  },
  {
   "cell_type": "markdown",
   "metadata": {},
   "source": [
    "### Question 6 - Best-Guess Optimal Model\n",
    "*Which maximum depth do you think results in a model that best generalizes to unseen data? What intuition lead you to this answer?*"
   ]
  },
  {
   "cell_type": "markdown",
   "metadata": {},
   "source": [
    "**Answer: **\n",
    "The depth of 4 would result in the best model. The score convergence is high, which means the model performs well. The two scores don't suffer from a huge gap, which means the variance is tolerable. If you go any deeper, the variance starts to grow large, quickly. If you go with a lesser depth, the scores aren't as high, and the model won't perform as well as it could."
   ]
  },
  {
   "cell_type": "markdown",
   "metadata": {},
   "source": [
    "-----\n",
    "\n",
    "## Evaluating Model Performance\n",
    "In this final section of the project, you will construct a model and make a prediction on the client's feature set using an optimized model from `fit_model`."
   ]
  },
  {
   "cell_type": "markdown",
   "metadata": {},
   "source": [
    "### Question 7 - Grid Search\n",
    "*What is the grid search technique and how it can be applied to optimize a learning algorithm?*"
   ]
  },
  {
   "cell_type": "markdown",
   "metadata": {},
   "source": [
    "**Answer: **\n",
    "The Grid Search technique is a tool used to analyze an esetimator over a range of parameters.\n",
    "It's a good way of honing in on the parameter set that optimizes the performance of an estimator/model. It will run the model under the combination of each possible parameter permutation, and pick the set which optimizes the performance."
   ]
  },
  {
   "cell_type": "markdown",
   "metadata": {},
   "source": [
    "### Question 8 - Cross-Validation\n",
    "*What is the k-fold cross-validation training technique? What benefit does this technique provide for grid search when optimizing a model?*  \n",
    "**Hint:** Much like the reasoning behind having a testing set, what could go wrong with using grid search without a cross-validated set?"
   ]
  },
  {
   "cell_type": "markdown",
   "metadata": {},
   "source": [
    "**Answer: **\n",
    "The k-fold cross-validation training technique is a way of partitioning the dataset you have into training and test sets. It partitions the dataset into k bins, and runs the training k times, swapping out which partition acts as the test set and the other k-1 partitions that act as training data. The performance result is the average outcome of all k experiments.\n",
    "\n",
    "This technique maximizes the use of the dataset you have by using all of it for validation. This helps augment grid search because it validates the decisions in the parameters that tune the estimator/model, and does it by utilizing all the available data."
   ]
  },
  {
   "cell_type": "markdown",
   "metadata": {},
   "source": [
    "### Implementation: Fitting a Model\n",
    "Your final implementation requires that you bring everything together and train a model using the **decision tree algorithm**. To ensure that you are producing an optimized model, you will train the model using the grid search technique to optimize the `'max_depth'` parameter for the decision tree. The `'max_depth'` parameter can be thought of as how many questions the decision tree algorithm is allowed to ask about the data before making a prediction. Decision trees are part of a class of algorithms called *supervised learning algorithms*.\n",
    "\n",
    "In addition, you will find your implementation is using `ShuffleSplit()` for an alternative form of cross-validation (see the `'cv_sets'` variable). While it is not the K-Fold cross-validation technique you describe in **Question 8**, this type of cross-validation technique is just as useful!. The `ShuffleSplit()` implementation below will create 10 (`'n_iter'`) shuffled sets, and for each shuffle, 20% (`'test_size'`) of the data will be used as the *validation set*. While you're working on your implementation, think about the contrasts and similarities it has to the K-fold cross-validation technique.\n",
    "\n",
    "For the `fit_model` function in the code cell below, you will need to implement the following:\n",
    "- Use [`DecisionTreeRegressor`](http://scikit-learn.org/stable/modules/generated/sklearn.tree.DecisionTreeRegressor.html) from `sklearn.tree` to create a decision tree regressor object.\n",
    "  - Assign this object to the `'regressor'` variable.\n",
    "- Create a dictionary for `'max_depth'` with the values from 1 to 10, and assign this to the `'params'` variable.\n",
    "- Use [`make_scorer`](http://scikit-learn.org/stable/modules/generated/sklearn.metrics.make_scorer.html) from `sklearn.metrics` to create a scoring function object.\n",
    "  - Pass the `performance_metric` function as a parameter to the object.\n",
    "  - Assign this scoring function to the `'scoring_fnc'` variable.\n",
    "- Use [`GridSearchCV`](http://scikit-learn.org/0.17/modules/generated/sklearn.grid_search.GridSearchCV.html) from `sklearn.grid_search` to create a grid search object.\n",
    "  - Pass the variables `'regressor'`, `'params'`, `'scoring_fnc'`, and `'cv_sets'` as parameters to the object. \n",
    "  - Assign the `GridSearchCV` object to the `'grid'` variable."
   ]
  },
  {
   "cell_type": "code",
   "execution_count": 14,
   "metadata": {
    "collapsed": false
   },
   "outputs": [],
   "source": [
    "# TODO: Import 'make_scorer', 'DecisionTreeRegressor', and 'GridSearchCV'\n",
    "from sklearn.tree import DecisionTreeRegressor\n",
    "from sklearn.metrics import make_scorer\n",
    "from sklearn.grid_search import GridSearchCV\n",
    "\n",
    "def fit_model(X, y):\n",
    "    \"\"\" Performs grid search over the 'max_depth' parameter for a \n",
    "        decision tree regressor trained on the input data [X, y]. \"\"\"\n",
    "    \n",
    "    # Create cross-validation sets from the training data\n",
    "    cv_sets = ShuffleSplit(X.shape[0], n_iter = 10, test_size = 0.20, random_state = 0)\n",
    "\n",
    "    # TODO: Create a decision tree regressor object\n",
    "    regressor = DecisionTreeRegressor()\n",
    "\n",
    "    # TODO: Create a dictionary for the parameter 'max_depth' with a range from 1 to 10\n",
    "    params = {'max_depth':[1,2,3,4,5,6,7,8,9,10]}\n",
    "\n",
    "    # TODO: Transform 'performance_metric' into a scoring function using 'make_scorer' \n",
    "    scoring_fnc = make_scorer(performance_metric)\n",
    "\n",
    "    # TODO: Create the grid search object\n",
    "    grid = GridSearchCV(regressor, params, scoring_fnc, cv=cv_sets)\n",
    "\n",
    "    # Fit the grid search object to the data to compute the optimal model\n",
    "    grid = grid.fit(X, y)\n",
    "\n",
    "    # Return the optimal model after fitting the data\n",
    "    return grid.best_estimator_"
   ]
  },
  {
   "cell_type": "markdown",
   "metadata": {},
   "source": [
    "### Making Predictions\n",
    "Once a model has been trained on a given set of data, it can now be used to make predictions on new sets of input data. In the case of a *decision tree regressor*, the model has learned *what the best questions to ask about the input data are*, and can respond with a prediction for the **target variable**. You can use these predictions to gain information about data where the value of the target variable is unknown — such as data the model was not trained on."
   ]
  },
  {
   "cell_type": "markdown",
   "metadata": {},
   "source": [
    "### Question 9 - Optimal Model\n",
    "_What maximum depth does the optimal model have? How does this result compare to your guess in **Question 6**?_  \n",
    "\n",
    "Run the code block below to fit the decision tree regressor to the training data and produce an optimal model."
   ]
  },
  {
   "cell_type": "code",
   "execution_count": 15,
   "metadata": {
    "collapsed": false,
    "scrolled": true
   },
   "outputs": [
    {
     "name": "stdout",
     "output_type": "stream",
     "text": [
      "Parameter 'max_depth' is 4 for the optimal model.\n"
     ]
    }
   ],
   "source": [
    "# Fit the training data to the model using grid search\n",
    "reg = fit_model(X_train, y_train)\n",
    "\n",
    "# Produce the value for 'max_depth'\n",
    "print \"Parameter 'max_depth' is {} for the optimal model.\".format(reg.get_params()['max_depth'])"
   ]
  },
  {
   "cell_type": "markdown",
   "metadata": {},
   "source": [
    "**Answer: **\n",
    "The maximum depth in the optimal model is 4! That's what I guessed in Question 6. :-)"
   ]
  },
  {
   "cell_type": "markdown",
   "metadata": {},
   "source": [
    "### Question 10 - Predicting Selling Prices\n",
    "Imagine that you were a real estate agent in the Boston area looking to use this model to help price homes owned by your clients that they wish to sell. You have collected the following information from three of your clients:\n",
    "\n",
    "| Feature | Client 1 | Client 2 | Client 3 |\n",
    "| :---: | :---: | :---: | :---: |\n",
    "| Total number of rooms in home | 5 rooms | 4 rooms | 8 rooms |\n",
    "| Neighborhood poverty level (as %) | 17% | 32% | 3% |\n",
    "| Student-teacher ratio of nearby schools | 15-to-1 | 22-to-1 | 12-to-1 |\n",
    "*What price would you recommend each client sell his/her home at? Do these prices seem reasonable given the values for the respective features?*  \n",
    "**Hint:** Use the statistics you calculated in the **Data Exploration** section to help justify your response.  \n",
    "\n",
    "Run the code block below to have your optimized model make predictions for each client's home."
   ]
  },
  {
   "cell_type": "code",
   "execution_count": 16,
   "metadata": {
    "collapsed": false
   },
   "outputs": [
    {
     "name": "stdout",
     "output_type": "stream",
     "text": [
      "Predicted selling price for Client 1's home: $414,050.00\n",
      "Predicted selling price for Client 2's home: $220,057.89\n",
      "Predicted selling price for Client 3's home: $900,000.00\n"
     ]
    }
   ],
   "source": [
    "# Produce a matrix for client data\n",
    "client_data = [[5, 17, 15], # Client 1\n",
    "               [4, 32, 22], # Client 2\n",
    "               [8, 3, 12]]  # Client 3\n",
    "\n",
    "# Show predictions\n",
    "for i, price in enumerate(reg.predict(client_data)):\n",
    "    print \"Predicted selling price for Client {}'s home: ${:,.2f}\".format(i+1, price)"
   ]
  },
  {
   "cell_type": "markdown",
   "metadata": {},
   "source": [
    "**Answer: **\n",
    "\n",
    "Client 1 sell at ~$415k.\n",
    "\n",
    "Client 2 sell at ~$220k.\n",
    "\n",
    "Client 3 sell at ~$900k.\n",
    "\n",
    "Just looking at these three data points, we see a spread of housing feature data. The median home price was in the  \\$450k price range. That means the average house, with average features should go for about that price. Given these 3 clients, the one trending toward the middle of these data points (Client 1), ends up with an optimized prediction of $415k. That seems right. Client 3 obviously has features at the high end of the scale, and therefore receives a high prediction price. The prediction appears good since the price isn't above the maximum, but nears that top price. And Client 2, with worse features, ends up with the lowest score. Again, not worse the the minimum price of the training set, but close to the bottom."
   ]
  },
  {
   "cell_type": "markdown",
   "metadata": {},
   "source": [
    "### Sensitivity\n",
    "An optimal model is not necessarily a robust model. Sometimes, a model is either too complex or too simple to sufficiently generalize to new data. Sometimes, a model could use a learning algorithm that is not appropriate for the structure of the data given. Other times, the data itself could be too noisy or contain too few samples to allow a model to adequately capture the target variable — i.e., the model is underfitted. Run the code cell below to run the `fit_model` function ten times with different training and testing sets to see how the prediction for a specific client changes with the data it's trained on."
   ]
  },
  {
   "cell_type": "code",
   "execution_count": 17,
   "metadata": {
    "collapsed": false
   },
   "outputs": [
    {
     "name": "stdout",
     "output_type": "stream",
     "text": [
      "Trial 1: $391,183.33\n",
      "Trial 2: $419,700.00\n",
      "Trial 3: $415,800.00\n",
      "Trial 4: $420,622.22\n",
      "Trial 5: $418,377.27\n",
      "Trial 6: $411,931.58\n",
      "Trial 7: $399,663.16\n",
      "Trial 8: $407,232.00\n",
      "Trial 9: $351,577.61\n",
      "Trial 10: $413,700.00\n",
      "\n",
      "Range in prices: $69,044.61\n"
     ]
    }
   ],
   "source": [
    "vs.PredictTrials(features, prices, fit_model, client_data)"
   ]
  },
  {
   "cell_type": "markdown",
   "metadata": {},
   "source": [
    "### Question 11 - Applicability\n",
    "*In a few sentences, discuss whether the constructed model should or should not be used in a real-world setting.*  \n",
    "**Hint:** Some questions to answering:\n",
    "- *How relevant today is data that was collected from 1978?*\n",
    "- *Are the features present in the data sufficient to describe a home?*\n",
    "- *Is the model robust enough to make consistent predictions?*\n",
    "- *Would data collected in an urban city like Boston be applicable in a rural city?*"
   ]
  },
  {
   "cell_type": "markdown",
   "metadata": {},
   "source": [
    "**Answer: **\n",
    "\n",
    "I think the constructed model can be used as another data point in advising clients in the Boston area. In the preparation step of this project, I was told the data had already been adjusted for inflation. That means the data can be used, at least as the first step in the process. However, if I were an agent, I would feel better if I had an estimator that was trained on much more data, especially more recent data. The data from 1978, even after being adjusted for inflation, cannot capture market trends or bubbles. The classifier will be biased towards what the Boston market was like in the late 70s.\n",
    "\n",
    "The features in this dataset are good ones, and definitely help define value of homes and neighborhoods. However, things like construction updates (updates to bathrooms, kitchen, windows, energ efficiency, etc) would be another great feature. Also, simply the number of bathrooms would probably be another good feature. There are certainly other features to describe a house. Capturing too many, however, would probably lead to variance!\n",
    "\n",
    "As evident by the Sensitivity exercise, the optimal esimator we have is not very consistent. While a $70k swing in prices may not seem like much to an estimator, where median prices are $400k, that is a lot of money to an individual! So having less variance over training/test sets would probably be worth the effort in this case.\n",
    "\n",
    "And finally, as referenced before, this Boston data cannot capture market trends over time, nor over locations. Urban home prices and datasets would not work well on rural data. A different dataset would be needed, with a newly optimzed estimator. And that's good! Trying to aggregate data from the whole country, over time and location, would be a cool experiment, but wouldn't be very practical for someone in their specific housing market."
   ]
  },
  {
<<<<<<< HEAD
   "cell_type": "code",
   "execution_count": null,
   "metadata": {
    "collapsed": true
   },
   "outputs": [],
   "source": []
=======
   "cell_type": "markdown",
   "metadata": {},
   "source": [
    "> **Note**: Once you have completed all of the code implementations and successfully answered each question above, you may finalize your work by exporting the iPython Notebook as an HTML document. You can do this by using the menu above and navigating to  \n",
    "**File -> Download as -> HTML (.html)**. Include the finished document along with this notebook as your submission."
   ]
>>>>>>> udacity/master
  }
 ],
 "metadata": {
  "anaconda-cloud": {},
  "kernelspec": {
<<<<<<< HEAD
   "display_name": "Python [Root]",
=======
   "display_name": "Python [default]",
>>>>>>> udacity/master
   "language": "python",
   "name": "Python [Root]"
  },
  "language_info": {
   "codemirror_mode": {
    "name": "ipython",
    "version": 2
   },
   "file_extension": ".py",
   "mimetype": "text/x-python",
   "name": "python",
   "nbconvert_exporter": "python",
   "pygments_lexer": "ipython2",
<<<<<<< HEAD
   "version": "2.7.12"
=======
   "version": "2.7.8"
>>>>>>> udacity/master
  }
 },
 "nbformat": 4,
 "nbformat_minor": 0
}
